{
  "nbformat": 4,
  "nbformat_minor": 0,
  "metadata": {
    "colab": {
      "provenance": [],
      "toc_visible": true,
      "gpuType": "T4"
    },
    "kernelspec": {
      "name": "python3",
      "display_name": "Python 3"
    },
    "language_info": {
      "name": "python"
    },
    "accelerator": "GPU"
  },
  "cells": [
    {
      "cell_type": "markdown",
      "source": [
        "# Author:\n",
        "- Name: Quan Hoang Ngoc\n",
        "- ID: 22521178\n",
        "- Time: 28/10/2024\n",
        "- Lab2"
      ],
      "metadata": {
        "id": "lE1undsP6N1_"
      }
    },
    {
      "cell_type": "code",
      "execution_count": 1,
      "metadata": {
        "colab": {
          "base_uri": "https://localhost:8080/"
        },
        "id": "zBCzodsL6BwI",
        "outputId": "68e72a41-b1f5-46d5-a587-301356d49a8a"
      },
      "outputs": [
        {
          "output_type": "stream",
          "name": "stdout",
          "text": [
            "2.5.0+cu121\n",
            "True\n",
            "1\n"
          ]
        }
      ],
      "source": [
        "import os\n",
        "import sys\n",
        "import torch\n",
        "\n",
        "print(torch.__version__)\n",
        "print(torch.cuda.is_available())\n",
        "print(torch.cuda.device_count())"
      ]
    },
    {
      "cell_type": "markdown",
      "source": [
        "# Content"
      ],
      "metadata": {
        "id": "gy1r6szp6ZNh"
      }
    },
    {
      "cell_type": "markdown",
      "source": [
        "## Clone corpus"
      ],
      "metadata": {
        "id": "qQMJZA9f6a7q"
      }
    },
    {
      "cell_type": "code",
      "source": [
        "import torchvision as tv\n",
        "from torchvision import datasets, transforms\n",
        "from torch.utils.data import DataLoader"
      ],
      "metadata": {
        "id": "5bsjyyYb6eUp"
      },
      "execution_count": 2,
      "outputs": []
    },
    {
      "cell_type": "code",
      "source": [
        "torch_ds = datasets.Caltech101(root='./data', download=True)\n",
        "torch_ds, torch_ds[0], torch_ds[10]"
      ],
      "metadata": {
        "colab": {
          "base_uri": "https://localhost:8080/"
        },
        "id": "W1kirqBv6grI",
        "outputId": "71a9beac-c16a-479f-c85c-e20490670bd9"
      },
      "execution_count": 3,
      "outputs": [
        {
          "output_type": "stream",
          "name": "stdout",
          "text": [
            "Files already downloaded and verified\n"
          ]
        },
        {
          "output_type": "execute_result",
          "data": {
            "text/plain": [
              "(Dataset Caltech101\n",
              "     Number of datapoints: 8677\n",
              "     Root location: ./data/caltech101\n",
              "     Target type: ['category'],\n",
              " (<PIL.JpegImagePlugin.JpegImageFile image mode=RGB size=510x337>, 0),\n",
              " (<PIL.JpegImagePlugin.JpegImageFile image mode=RGB size=479x316>, 0))"
            ]
          },
          "metadata": {},
          "execution_count": 3
        }
      ]
    },
    {
      "cell_type": "markdown",
      "source": [
        "## Valid"
      ],
      "metadata": {
        "id": "sJVhEhPW67OB"
      }
    },
    {
      "cell_type": "code",
      "source": [
        "from imutils import paths # NEW library\n",
        "import cv2\n",
        "import numpy as np\n",
        "from tqdm import tqdm"
      ],
      "metadata": {
        "id": "ufzgNsL1682R"
      },
      "execution_count": 4,
      "outputs": []
    },
    {
      "cell_type": "code",
      "source": [
        "image_paths = list(paths.list_images('./data/caltech101'))\n",
        "data = []\n",
        "labels = []\n",
        "size_ts_in = 224\n",
        "\n",
        "for img_path in tqdm(image_paths):\n",
        "    label = img_path.split(os.path.sep)[-2]\n",
        "    if label == \"BACKGROUND_Google\":\n",
        "        continue\n",
        "    img = cv2.imread(img_path)\n",
        "    # img = cv2.cvtColor(img, cv2.COLOR_BGR2GRAY) # Color to gray\n",
        "    # hist = cv2.calcHist([img], [0], None, [256], [0, 256])\n",
        "    # size = img.shape[0]*img.shape[1]\n",
        "    # hist = hist/size\n",
        "    # hist = hist.flatten()\n",
        "    img = cv2.resize(img, dsize=(size_ts_in, size_ts_in))\n",
        "    data.append(img)\n",
        "    labels.append(label)\n",
        "data = np.array(data)\n",
        "labels = np.array(labels).reshape(-1, 1)\n",
        "data.shape, labels.shape"
      ],
      "metadata": {
        "colab": {
          "base_uri": "https://localhost:8080/"
        },
        "id": "qpfbHqI87AWZ",
        "outputId": "3da02d30-53ee-4130-abc5-d3014640ec1c"
      },
      "execution_count": 5,
      "outputs": [
        {
          "output_type": "stream",
          "name": "stderr",
          "text": [
            "100%|██████████| 9144/9144 [00:12<00:00, 759.01it/s]\n"
          ]
        },
        {
          "output_type": "execute_result",
          "data": {
            "text/plain": [
              "((8677, 224, 224, 3), (8677, 1))"
            ]
          },
          "metadata": {},
          "execution_count": 5
        }
      ]
    },
    {
      "cell_type": "code",
      "source": [
        "classes = sorted(np.unique(labels))\n",
        "label_mapping = {label: idx for idx, label in enumerate(classes)}\n",
        "encoded = np.array([label_mapping[label[0]] for label in labels]).reshape(-1, 1)\n",
        "encoded, len(classes)"
      ],
      "metadata": {
        "colab": {
          "base_uri": "https://localhost:8080/"
        },
        "id": "c0Q8hrgG7Dk2",
        "outputId": "8407e1ea-7044-4d46-dd0b-8991f72d781e"
      },
      "execution_count": 6,
      "outputs": [
        {
          "output_type": "execute_result",
          "data": {
            "text/plain": [
              "(array([[26],\n",
              "        [26],\n",
              "        [26],\n",
              "        ...,\n",
              "        [ 1],\n",
              "        [ 1],\n",
              "        [ 1]]),\n",
              " 101)"
            ]
          },
          "metadata": {},
          "execution_count": 6
        }
      ]
    },
    {
      "cell_type": "code",
      "source": [
        "from sklearn.preprocessing import OneHotEncoder\n",
        "\n",
        "# Create a OneHotEncoder instance\n",
        "encoder = OneHotEncoder(sparse_output=False, categories='auto')  # sparse=False for a dense output\n",
        "\n",
        "# Fit the encoder to your encoded labels and transform them\n",
        "encoded_onehot = encoder.fit_transform(encoded)\n",
        "\n",
        "# Print the shape of the one-hot encoded labels\n",
        "print(\"One-hot encoded shape:\", encoded_onehot.shape)"
      ],
      "metadata": {
        "colab": {
          "base_uri": "https://localhost:8080/"
        },
        "id": "itMsLlc0G_w-",
        "outputId": "31a02a1b-9799-42e1-d187-053f2ee09869"
      },
      "execution_count": 7,
      "outputs": [
        {
          "output_type": "stream",
          "name": "stdout",
          "text": [
            "One-hot encoded shape: (8677, 101)\n"
          ]
        }
      ]
    },
    {
      "cell_type": "code",
      "source": [
        "from sklearn.model_selection import train_test_split\n",
        "\n",
        "# Split into train and test sets\n",
        "X_train, X_test, y_train, y_test = train_test_split(data, encoded_onehot, test_size=0.2, random_state=42)\n",
        "\n",
        "# Further split train into train and validation sets\n",
        "X_train, X_val, y_train, y_val = train_test_split(X_train, y_train, test_size=0.25, random_state=42)\n",
        "\n",
        "# Print the shapes of the resulting sets\n",
        "print(\"X_train shape:\", X_train.shape)\n",
        "print(\"y_train shape:\", y_train.shape)\n",
        "print(\"X_val shape:\", X_val.shape)\n",
        "print(\"y_val shape:\", y_val.shape)\n",
        "print(\"X_test shape:\", X_test.shape)\n",
        "print(\"y_test shape:\", y_test.shape)"
      ],
      "metadata": {
        "colab": {
          "base_uri": "https://localhost:8080/"
        },
        "id": "FZYZ6s_D7GnI",
        "outputId": "32b70800-38dd-4c82-965c-852e8cb31f46"
      },
      "execution_count": 8,
      "outputs": [
        {
          "output_type": "stream",
          "name": "stdout",
          "text": [
            "X_train shape: (5205, 224, 224, 3)\n",
            "y_train shape: (5205, 101)\n",
            "X_val shape: (1736, 224, 224, 3)\n",
            "y_val shape: (1736, 101)\n",
            "X_test shape: (1736, 224, 224, 3)\n",
            "y_test shape: (1736, 101)\n"
          ]
        }
      ]
    },
    {
      "cell_type": "markdown",
      "source": [
        "## Task1"
      ],
      "metadata": {
        "id": "7cZBgXUq7Q8t"
      }
    },
    {
      "cell_type": "code",
      "source": [
        "import tensorflow as tf\n",
        "from tensorflow.keras.applications import MobileNetV2\n",
        "from tensorflow.keras.layers import Dense, GlobalAveragePooling2D, Dropout, Flatten, Input\n",
        "from tensorflow.keras.layers import Conv2D, BatchNormalization, ReLU, DepthwiseConv2D, AvgPool2D\n",
        "from tensorflow.keras.models import Sequential, Model"
      ],
      "metadata": {
        "id": "Y1iUhHIr7SqQ"
      },
      "execution_count": 9,
      "outputs": []
    },
    {
      "cell_type": "code",
      "source": [
        "from tensorflow.keras.layers import Input, Conv2D, DepthwiseConv2D, BatchNormalization, ReLU, Dropout, GlobalAveragePooling2D, Dense\n",
        "from tensorflow.keras.models import Model\n",
        "\n",
        "def mobilnet_v1_block(inputs, filters, strides):\n",
        "    \"\"\"\n",
        "    Defines a single MobileNetV1 block.\n",
        "\n",
        "    Args:\n",
        "        inputs: Input tensor.\n",
        "        filters: Number of filters in the pointwise convolution.\n",
        "        strides: Stride for the depthwise convolution.\n",
        "\n",
        "    Returns:\n",
        "        Output tensor of the block.\n",
        "    \"\"\"\n",
        "    # [CPN1] Conv reduce wide\n",
        "    x = DepthwiseConv2D(kernel_size=3, strides=strides, padding='same', use_bias=False)(inputs)\n",
        "    x = BatchNormalization()(x)\n",
        "    x = ReLU(max_value=6)(x) # ReLU6 for better quantization\n",
        "\n",
        "    # [CPN2] Conv change deep\n",
        "    x = Conv2D(filters, kernel_size=1, strides=1, padding='same', use_bias=False)(x)\n",
        "    x = BatchNormalization()(x)\n",
        "    x = ReLU(max_value=6)(x) # ReLU6\n",
        "    return x\n",
        "\n",
        "def get_network(wide_ts_in, num_classes):\n",
        "    \"\"\"\n",
        "    Creates a MobileNetV1 model.\n",
        "\n",
        "    Args:\n",
        "        input_shape: Shape of the input image.\n",
        "        num_classes: Number of classes for classification.\n",
        "\n",
        "    Returns:\n",
        "        A Keras Model instance.\n",
        "    \"\"\"\n",
        "    inputs = Input(shape=(wide_ts_in, wide_ts_in, 3))\n",
        "\n",
        "    x = Conv2D(32, kernel_size=3, strides=2, padding='same', use_bias=False)(inputs)\n",
        "    x = BatchNormalization()(x)\n",
        "    x = ReLU(max_value=6)(x)\n",
        "\n",
        "    x = mobilnet_v1_block(x, 64, strides=1)\n",
        "    x = mobilnet_v1_block(x, 128, strides=2)\n",
        "    x = mobilnet_v1_block(x, 128, strides=1)\n",
        "    x = mobilnet_v1_block(x, 256, strides=2)\n",
        "    x = mobilnet_v1_block(x, 256, strides=1)\n",
        "    x = mobilnet_v1_block(x, 512, strides=2)\n",
        "\n",
        "    for _ in range(5):  # 5 blocks with 512 filters\n",
        "        x = mobilnet_v1_block(x, 512, strides=1)\n",
        "\n",
        "    x = mobilnet_v1_block(x, 1024, strides=2)\n",
        "    x = mobilnet_v1_block(x, 1024, strides=1)\n",
        "\n",
        "    x = AvgPool2D(pool_size=(7, 7), strides=1, padding=\"same\")(x) # Using AvgPool2D\n",
        "    x = Flatten()(x)  # Flatten the output of AvgPool2D\n",
        "    outputs = Dense(num_classes, activation='softmax')(x)\n",
        "\n",
        "    model = Model(inputs=inputs, outputs=outputs)\n",
        "    return model\n"
      ],
      "metadata": {
        "id": "0-jjWK_o8Woi"
      },
      "execution_count": 10,
      "outputs": []
    },
    {
      "cell_type": "code",
      "source": [
        "def compile_network(network, algo_type, loss_type):\n",
        "    adam = tf.keras.optimizers.Adam(learning_rate=1e-4)\n",
        "    sgd = tf.keras.optimizers.SGD(learning_rate=1e-4)\n",
        "    ce = \"categorical_crossentropy\"\n",
        "    fce = \"categorical_focal_crossentropy\"\n",
        "    if algo_type == \"adam\":\n",
        "        algo_type = adam\n",
        "    elif algo_type == \"sgd\":\n",
        "        algo_type = sgd\n",
        "    if loss_type == \"ce\":\n",
        "        loss_type = ce\n",
        "    elif loss_type == \"fce\":\n",
        "        loss_type = fce\n",
        "    network.compile(optimizer=algo_type, loss=loss_type, metrics=[\"accuracy\"])\n",
        "    return network"
      ],
      "metadata": {
        "id": "ma-ZZyVOAatt"
      },
      "execution_count": 11,
      "outputs": []
    },
    {
      "cell_type": "markdown",
      "source": [
        "### Gen loader"
      ],
      "metadata": {
        "id": "B8ycOm8IC2ds"
      }
    },
    {
      "cell_type": "markdown",
      "source": [
        "## Adam + CE"
      ],
      "metadata": {
        "id": "radh9GEbFB8x"
      }
    },
    {
      "cell_type": "code",
      "source": [
        "model = get_network(224, 101)\n",
        "model = compile_network(model, \"adam\", \"ce\")\n",
        "model.fit(X_train, y_train, epochs=10, validation_data=(X_val, y_val))"
      ],
      "metadata": {
        "colab": {
          "base_uri": "https://localhost:8080/"
        },
        "id": "pVF9KdukFafp",
        "outputId": "9244ddb2-6e16-4b1d-b130-99720a05cce0"
      },
      "execution_count": 12,
      "outputs": [
        {
          "output_type": "stream",
          "name": "stdout",
          "text": [
            "Epoch 1/10\n",
            "\u001b[1m163/163\u001b[0m \u001b[32m━━━━━━━━━━━━━━━━━━━━\u001b[0m\u001b[37m\u001b[0m \u001b[1m65s\u001b[0m 208ms/step - accuracy: 0.1191 - loss: 5.1663 - val_accuracy: 0.0472 - val_loss: 4.8654\n",
            "Epoch 2/10\n",
            "\u001b[1m163/163\u001b[0m \u001b[32m━━━━━━━━━━━━━━━━━━━━\u001b[0m\u001b[37m\u001b[0m \u001b[1m15s\u001b[0m 90ms/step - accuracy: 0.2171 - loss: 4.0410 - val_accuracy: 0.0472 - val_loss: 5.5322\n",
            "Epoch 3/10\n",
            "\u001b[1m163/163\u001b[0m \u001b[32m━━━━━━━━━━━━━━━━━━━━\u001b[0m\u001b[37m\u001b[0m \u001b[1m21s\u001b[0m 91ms/step - accuracy: 0.2900 - loss: 3.4622 - val_accuracy: 0.0449 - val_loss: 6.4993\n",
            "Epoch 4/10\n",
            "\u001b[1m163/163\u001b[0m \u001b[32m━━━━━━━━━━━━━━━━━━━━\u001b[0m\u001b[37m\u001b[0m \u001b[1m20s\u001b[0m 90ms/step - accuracy: 0.3451 - loss: 3.1187 - val_accuracy: 0.0063 - val_loss: 7.2188\n",
            "Epoch 5/10\n",
            "\u001b[1m163/163\u001b[0m \u001b[32m━━━━━━━━━━━━━━━━━━━━\u001b[0m\u001b[37m\u001b[0m \u001b[1m21s\u001b[0m 91ms/step - accuracy: 0.4034 - loss: 2.7240 - val_accuracy: 0.2984 - val_loss: 3.3603\n",
            "Epoch 6/10\n",
            "\u001b[1m163/163\u001b[0m \u001b[32m━━━━━━━━━━━━━━━━━━━━\u001b[0m\u001b[37m\u001b[0m \u001b[1m15s\u001b[0m 91ms/step - accuracy: 0.4366 - loss: 2.4751 - val_accuracy: 0.3370 - val_loss: 3.1206\n",
            "Epoch 7/10\n",
            "\u001b[1m163/163\u001b[0m \u001b[32m━━━━━━━━━━━━━━━━━━━━\u001b[0m\u001b[37m\u001b[0m \u001b[1m15s\u001b[0m 91ms/step - accuracy: 0.4709 - loss: 2.2303 - val_accuracy: 0.4044 - val_loss: 2.7825\n",
            "Epoch 8/10\n",
            "\u001b[1m163/163\u001b[0m \u001b[32m━━━━━━━━━━━━━━━━━━━━\u001b[0m\u001b[37m\u001b[0m \u001b[1m21s\u001b[0m 92ms/step - accuracy: 0.5161 - loss: 1.9994 - val_accuracy: 0.3894 - val_loss: 3.0664\n",
            "Epoch 9/10\n",
            "\u001b[1m163/163\u001b[0m \u001b[32m━━━━━━━━━━━━━━━━━━━━\u001b[0m\u001b[37m\u001b[0m \u001b[1m20s\u001b[0m 92ms/step - accuracy: 0.5494 - loss: 1.8178 - val_accuracy: 0.3813 - val_loss: 3.3340\n",
            "Epoch 10/10\n",
            "\u001b[1m163/163\u001b[0m \u001b[32m━━━━━━━━━━━━━━━━━━━━\u001b[0m\u001b[37m\u001b[0m \u001b[1m20s\u001b[0m 91ms/step - accuracy: 0.6111 - loss: 1.5505 - val_accuracy: 0.4038 - val_loss: 3.7459\n"
          ]
        },
        {
          "output_type": "execute_result",
          "data": {
            "text/plain": [
              "<keras.src.callbacks.history.History at 0x7c18c996a4a0>"
            ]
          },
          "metadata": {},
          "execution_count": 12
        }
      ]
    },
    {
      "cell_type": "code",
      "source": [
        "from sklearn.metrics import accuracy_score\n",
        "def eval_score(model):\n",
        "    # Predict on the training set\n",
        "    y_train_pred = model.predict(X_train)\n",
        "    y_train_pred_classes = np.argmax(y_train_pred, axis=1)  # Convert probabilities to class labels\n",
        "    y_train_true_classes = np.argmax(y_train, axis=1)\n",
        "\n",
        "    # Predict on the validation set\n",
        "    y_val_pred = model.predict(X_val)\n",
        "    y_val_pred_classes = np.argmax(y_val_pred, axis=1)\n",
        "    y_val_true_classes = np.argmax(y_val, axis=1)\n",
        "\n",
        "    # Predict on the test set\n",
        "    y_test_pred = model.predict(X_test)\n",
        "    y_test_pred_classes = np.argmax(y_test_pred, axis=1)\n",
        "    y_test_true_classes = np.argmax(y_test, axis=1)\n",
        "\n",
        "    # Calculate accuracy for each set\n",
        "    train_accuracy = accuracy_score(y_train_true_classes, y_train_pred_classes)\n",
        "    val_accuracy = accuracy_score(y_val_true_classes, y_val_pred_classes)\n",
        "    test_accuracy = accuracy_score(y_test_true_classes, y_test_pred_classes)\n",
        "\n",
        "    # Print the results\n",
        "    print(f\"Training Accuracy: {train_accuracy:.4f}\")\n",
        "    print(f\"Validation Accuracy: {val_accuracy:.4f}\")\n",
        "    print(f\"Test Accuracy: {test_accuracy:.4f}\")\n",
        "\n",
        "eval_score(model)"
      ],
      "metadata": {
        "colab": {
          "base_uri": "https://localhost:8080/"
        },
        "id": "AsgHM40LJA21",
        "outputId": "d9ba75d0-1f4b-47b8-d235-3da0d51f3575"
      },
      "execution_count": 13,
      "outputs": [
        {
          "output_type": "stream",
          "name": "stdout",
          "text": [
            "\u001b[1m163/163\u001b[0m \u001b[32m━━━━━━━━━━━━━━━━━━━━\u001b[0m\u001b[37m\u001b[0m \u001b[1m7s\u001b[0m 33ms/step\n",
            "\u001b[1m55/55\u001b[0m \u001b[32m━━━━━━━━━━━━━━━━━━━━\u001b[0m\u001b[37m\u001b[0m \u001b[1m2s\u001b[0m 37ms/step\n",
            "\u001b[1m55/55\u001b[0m \u001b[32m━━━━━━━━━━━━━━━━━━━━\u001b[0m\u001b[37m\u001b[0m \u001b[1m1s\u001b[0m 20ms/step\n",
            "Training Accuracy: 0.5556\n",
            "Validation Accuracy: 0.4038\n",
            "Test Accuracy: 0.4090\n"
          ]
        }
      ]
    },
    {
      "cell_type": "markdown",
      "source": [
        "## Adam + FCE"
      ],
      "metadata": {
        "id": "ptN3OCJhJfkR"
      }
    },
    {
      "cell_type": "code",
      "source": [
        "model = get_network(224, 101)\n",
        "model = compile_network(model, \"adam\", \"fce\")\n",
        "model.fit(X_train, y_train, epochs=10, validation_data=(X_val, y_val))\n",
        "eval_score(model)"
      ],
      "metadata": {
        "colab": {
          "base_uri": "https://localhost:8080/"
        },
        "id": "GYWbu8aXJgR5",
        "outputId": "ab67bee7-50c9-4686-f7c2-10d588687831"
      },
      "execution_count": 14,
      "outputs": [
        {
          "output_type": "stream",
          "name": "stdout",
          "text": [
            "Epoch 1/10\n",
            "\u001b[1m163/163\u001b[0m \u001b[32m━━━━━━━━━━━━━━━━━━━━\u001b[0m\u001b[37m\u001b[0m \u001b[1m51s\u001b[0m 174ms/step - accuracy: 0.1175 - loss: 1.2919 - val_accuracy: 0.0472 - val_loss: 1.2060\n",
            "Epoch 2/10\n",
            "\u001b[1m163/163\u001b[0m \u001b[32m━━━━━━━━━━━━━━━━━━━━\u001b[0m\u001b[37m\u001b[0m \u001b[1m17s\u001b[0m 91ms/step - accuracy: 0.2112 - loss: 0.9897 - val_accuracy: 0.0472 - val_loss: 1.5116\n",
            "Epoch 3/10\n",
            "\u001b[1m163/163\u001b[0m \u001b[32m━━━━━━━━━━━━━━━━━━━━\u001b[0m\u001b[37m\u001b[0m \u001b[1m20s\u001b[0m 90ms/step - accuracy: 0.2908 - loss: 0.8202 - val_accuracy: 0.0472 - val_loss: 1.7189\n",
            "Epoch 4/10\n",
            "\u001b[1m163/163\u001b[0m \u001b[32m━━━━━━━━━━━━━━━━━━━━\u001b[0m\u001b[37m\u001b[0m \u001b[1m15s\u001b[0m 91ms/step - accuracy: 0.3437 - loss: 0.7113 - val_accuracy: 0.0086 - val_loss: 1.7300\n",
            "Epoch 5/10\n",
            "\u001b[1m163/163\u001b[0m \u001b[32m━━━━━━━━━━━━━━━━━━━━\u001b[0m\u001b[37m\u001b[0m \u001b[1m20s\u001b[0m 91ms/step - accuracy: 0.3892 - loss: 0.6276 - val_accuracy: 0.2546 - val_loss: 0.8511\n",
            "Epoch 6/10\n",
            "\u001b[1m163/163\u001b[0m \u001b[32m━━━━━━━━━━━━━━━━━━━━\u001b[0m\u001b[37m\u001b[0m \u001b[1m21s\u001b[0m 91ms/step - accuracy: 0.4276 - loss: 0.5681 - val_accuracy: 0.3468 - val_loss: 0.6840\n",
            "Epoch 7/10\n",
            "\u001b[1m163/163\u001b[0m \u001b[32m━━━━━━━━━━━━━━━━━━━━\u001b[0m\u001b[37m\u001b[0m \u001b[1m21s\u001b[0m 92ms/step - accuracy: 0.4680 - loss: 0.5030 - val_accuracy: 0.3836 - val_loss: 0.7214\n",
            "Epoch 8/10\n",
            "\u001b[1m163/163\u001b[0m \u001b[32m━━━━━━━━━━━━━━━━━━━━\u001b[0m\u001b[37m\u001b[0m \u001b[1m20s\u001b[0m 92ms/step - accuracy: 0.4964 - loss: 0.4530 - val_accuracy: 0.4050 - val_loss: 0.6349\n",
            "Epoch 9/10\n",
            "\u001b[1m163/163\u001b[0m \u001b[32m━━━━━━━━━━━━━━━━━━━━\u001b[0m\u001b[37m\u001b[0m \u001b[1m15s\u001b[0m 92ms/step - accuracy: 0.5395 - loss: 0.4021 - val_accuracy: 0.4240 - val_loss: 0.6754\n",
            "Epoch 10/10\n",
            "\u001b[1m163/163\u001b[0m \u001b[32m━━━━━━━━━━━━━━━━━━━━\u001b[0m\u001b[37m\u001b[0m \u001b[1m20s\u001b[0m 92ms/step - accuracy: 0.5512 - loss: 0.3646 - val_accuracy: 0.4205 - val_loss: 0.6786\n",
            "\u001b[1m163/163\u001b[0m \u001b[32m━━━━━━━━━━━━━━━━━━━━\u001b[0m\u001b[37m\u001b[0m \u001b[1m6s\u001b[0m 32ms/step\n",
            "\u001b[1m55/55\u001b[0m \u001b[32m━━━━━━━━━━━━━━━━━━━━\u001b[0m\u001b[37m\u001b[0m \u001b[1m2s\u001b[0m 34ms/step\n",
            "\u001b[1m55/55\u001b[0m \u001b[32m━━━━━━━━━━━━━━━━━━━━\u001b[0m\u001b[37m\u001b[0m \u001b[1m1s\u001b[0m 20ms/step\n",
            "Training Accuracy: 0.5881\n",
            "Validation Accuracy: 0.4205\n",
            "Test Accuracy: 0.4159\n"
          ]
        }
      ]
    },
    {
      "cell_type": "markdown",
      "source": [
        "## SGD + CE"
      ],
      "metadata": {
        "id": "ZhwSNdgJJo3c"
      }
    },
    {
      "cell_type": "code",
      "source": [
        "model = get_network(224, 101)\n",
        "model = compile_network(model, \"sgd\", \"ce\")\n",
        "model.fit(X_train, y_train, epochs=10, validation_data=(X_val, y_val))\n",
        "eval_score(model)"
      ],
      "metadata": {
        "colab": {
          "base_uri": "https://localhost:8080/"
        },
        "id": "QH6_br7TJs-1",
        "outputId": "83ebf045-fd76-4936-ce3f-f3a890df6cd7"
      },
      "execution_count": 15,
      "outputs": [
        {
          "output_type": "stream",
          "name": "stdout",
          "text": [
            "Epoch 1/10\n",
            "\u001b[1m163/163\u001b[0m \u001b[32m━━━━━━━━━━━━━━━━━━━━\u001b[0m\u001b[37m\u001b[0m \u001b[1m39s\u001b[0m 160ms/step - accuracy: 0.0677 - loss: 4.5311 - val_accuracy: 0.0916 - val_loss: 4.4252\n",
            "Epoch 2/10\n",
            "\u001b[1m163/163\u001b[0m \u001b[32m━━━━━━━━━━━━━━━━━━━━\u001b[0m\u001b[37m\u001b[0m \u001b[1m22s\u001b[0m 89ms/step - accuracy: 0.1397 - loss: 4.2081 - val_accuracy: 0.0916 - val_loss: 4.3244\n",
            "Epoch 3/10\n",
            "\u001b[1m163/163\u001b[0m \u001b[32m━━━━━━━━━━━━━━━━━━━━\u001b[0m\u001b[37m\u001b[0m \u001b[1m21s\u001b[0m 90ms/step - accuracy: 0.1565 - loss: 4.1390 - val_accuracy: 0.0916 - val_loss: 4.3192\n",
            "Epoch 4/10\n",
            "\u001b[1m163/163\u001b[0m \u001b[32m━━━━━━━━━━━━━━━━━━━━\u001b[0m\u001b[37m\u001b[0m \u001b[1m20s\u001b[0m 89ms/step - accuracy: 0.1434 - loss: 4.1280 - val_accuracy: 0.0916 - val_loss: 4.3504\n",
            "Epoch 5/10\n",
            "\u001b[1m163/163\u001b[0m \u001b[32m━━━━━━━━━━━━━━━━━━━━\u001b[0m\u001b[37m\u001b[0m \u001b[1m20s\u001b[0m 89ms/step - accuracy: 0.1503 - loss: 4.0938 - val_accuracy: 0.0916 - val_loss: 4.2653\n",
            "Epoch 6/10\n",
            "\u001b[1m163/163\u001b[0m \u001b[32m━━━━━━━━━━━━━━━━━━━━\u001b[0m\u001b[37m\u001b[0m \u001b[1m21s\u001b[0m 89ms/step - accuracy: 0.1644 - loss: 4.0631 - val_accuracy: 0.1532 - val_loss: 4.0916\n",
            "Epoch 7/10\n",
            "\u001b[1m163/163\u001b[0m \u001b[32m━━━━━━━━━━━━━━━━━━━━\u001b[0m\u001b[37m\u001b[0m \u001b[1m15s\u001b[0m 90ms/step - accuracy: 0.1641 - loss: 4.0357 - val_accuracy: 0.1699 - val_loss: 4.0518\n",
            "Epoch 8/10\n",
            "\u001b[1m163/163\u001b[0m \u001b[32m━━━━━━━━━━━━━━━━━━━━\u001b[0m\u001b[37m\u001b[0m \u001b[1m20s\u001b[0m 89ms/step - accuracy: 0.1619 - loss: 4.0425 - val_accuracy: 0.1722 - val_loss: 4.0316\n",
            "Epoch 9/10\n",
            "\u001b[1m163/163\u001b[0m \u001b[32m━━━━━━━━━━━━━━━━━━━━\u001b[0m\u001b[37m\u001b[0m \u001b[1m15s\u001b[0m 90ms/step - accuracy: 0.1663 - loss: 3.9986 - val_accuracy: 0.1694 - val_loss: 4.0406\n",
            "Epoch 10/10\n",
            "\u001b[1m163/163\u001b[0m \u001b[32m━━━━━━━━━━━━━━━━━━━━\u001b[0m\u001b[37m\u001b[0m \u001b[1m20s\u001b[0m 90ms/step - accuracy: 0.1593 - loss: 4.0022 - val_accuracy: 0.1717 - val_loss: 4.0039\n",
            "\u001b[1m163/163\u001b[0m \u001b[32m━━━━━━━━━━━━━━━━━━━━\u001b[0m\u001b[37m\u001b[0m \u001b[1m6s\u001b[0m 31ms/step\n",
            "\u001b[1m55/55\u001b[0m \u001b[32m━━━━━━━━━━━━━━━━━━━━\u001b[0m\u001b[37m\u001b[0m \u001b[1m2s\u001b[0m 33ms/step\n",
            "\u001b[1m55/55\u001b[0m \u001b[32m━━━━━━━━━━━━━━━━━━━━\u001b[0m\u001b[37m\u001b[0m \u001b[1m1s\u001b[0m 20ms/step\n",
            "Training Accuracy: 0.1612\n",
            "Validation Accuracy: 0.1717\n",
            "Test Accuracy: 0.1647\n"
          ]
        }
      ]
    },
    {
      "cell_type": "markdown",
      "source": [
        "## SGD + FCE"
      ],
      "metadata": {
        "id": "tCt3oQIYJxj4"
      }
    },
    {
      "cell_type": "code",
      "source": [
        "model = get_network(224, 101)\n",
        "model = compile_network(model, \"sgd\", \"fce\")\n",
        "model.fit(X_train, y_train, epochs=10, validation_data=(X_val, y_val))\n",
        "eval_score(model)"
      ],
      "metadata": {
        "colab": {
          "base_uri": "https://localhost:8080/"
        },
        "id": "Xk7MI8pEJzwd",
        "outputId": "94406a4f-8df8-4f26-83c5-b5f86ebab17e"
      },
      "execution_count": 16,
      "outputs": [
        {
          "output_type": "stream",
          "name": "stdout",
          "text": [
            "Epoch 1/10\n",
            "\u001b[1m163/163\u001b[0m \u001b[32m━━━━━━━━━━━━━━━━━━━━\u001b[0m\u001b[37m\u001b[0m \u001b[1m39s\u001b[0m 160ms/step - accuracy: 0.0439 - loss: 1.1460 - val_accuracy: 0.0046 - val_loss: 1.1096\n",
            "Epoch 2/10\n",
            "\u001b[1m163/163\u001b[0m \u001b[32m━━━━━━━━━━━━━━━━━━━━\u001b[0m\u001b[37m\u001b[0m \u001b[1m14s\u001b[0m 89ms/step - accuracy: 0.1167 - loss: 1.0490 - val_accuracy: 0.0916 - val_loss: 1.0802\n",
            "Epoch 3/10\n",
            "\u001b[1m163/163\u001b[0m \u001b[32m━━━━━━━━━━━━━━━━━━━━\u001b[0m\u001b[37m\u001b[0m \u001b[1m21s\u001b[0m 90ms/step - accuracy: 0.1257 - loss: 1.0288 - val_accuracy: 0.0916 - val_loss: 1.0637\n",
            "Epoch 4/10\n",
            "\u001b[1m163/163\u001b[0m \u001b[32m━━━━━━━━━━━━━━━━━━━━\u001b[0m\u001b[37m\u001b[0m \u001b[1m20s\u001b[0m 89ms/step - accuracy: 0.1415 - loss: 1.0133 - val_accuracy: 0.0916 - val_loss: 1.0616\n",
            "Epoch 5/10\n",
            "\u001b[1m163/163\u001b[0m \u001b[32m━━━━━━━━━━━━━━━━━━━━\u001b[0m\u001b[37m\u001b[0m \u001b[1m20s\u001b[0m 89ms/step - accuracy: 0.1438 - loss: 1.0041 - val_accuracy: 0.0916 - val_loss: 1.0260\n",
            "Epoch 6/10\n",
            "\u001b[1m163/163\u001b[0m \u001b[32m━━━━━━━━━━━━━━━━━━━━\u001b[0m\u001b[37m\u001b[0m \u001b[1m20s\u001b[0m 89ms/step - accuracy: 0.1555 - loss: 0.9890 - val_accuracy: 0.1382 - val_loss: 0.9995\n",
            "Epoch 7/10\n",
            "\u001b[1m163/163\u001b[0m \u001b[32m━━━━━━━━━━━━━━━━━━━━\u001b[0m\u001b[37m\u001b[0m \u001b[1m21s\u001b[0m 90ms/step - accuracy: 0.1580 - loss: 0.9908 - val_accuracy: 0.1601 - val_loss: 0.9922\n",
            "Epoch 8/10\n",
            "\u001b[1m163/163\u001b[0m \u001b[32m━━━━━━━━━━━━━━━━━━━━\u001b[0m\u001b[37m\u001b[0m \u001b[1m20s\u001b[0m 90ms/step - accuracy: 0.1498 - loss: 0.9856 - val_accuracy: 0.1555 - val_loss: 0.9893\n",
            "Epoch 9/10\n",
            "\u001b[1m163/163\u001b[0m \u001b[32m━━━━━━━━━━━━━━━━━━━━\u001b[0m\u001b[37m\u001b[0m \u001b[1m20s\u001b[0m 89ms/step - accuracy: 0.1514 - loss: 0.9841 - val_accuracy: 0.1550 - val_loss: 0.9888\n",
            "Epoch 10/10\n",
            "\u001b[1m163/163\u001b[0m \u001b[32m━━━━━━━━━━━━━━━━━━━━\u001b[0m\u001b[37m\u001b[0m \u001b[1m15s\u001b[0m 89ms/step - accuracy: 0.1376 - loss: 0.9915 - val_accuracy: 0.1613 - val_loss: 0.9846\n",
            "\u001b[1m163/163\u001b[0m \u001b[32m━━━━━━━━━━━━━━━━━━━━\u001b[0m\u001b[37m\u001b[0m \u001b[1m6s\u001b[0m 28ms/step\n",
            "\u001b[1m55/55\u001b[0m \u001b[32m━━━━━━━━━━━━━━━━━━━━\u001b[0m\u001b[37m\u001b[0m \u001b[1m2s\u001b[0m 41ms/step\n",
            "\u001b[1m55/55\u001b[0m \u001b[32m━━━━━━━━━━━━━━━━━━━━\u001b[0m\u001b[37m\u001b[0m \u001b[1m1s\u001b[0m 20ms/step\n",
            "Training Accuracy: 0.1545\n",
            "Validation Accuracy: 0.1613\n",
            "Test Accuracy: 0.1555\n"
          ]
        }
      ]
    },
    {
      "cell_type": "markdown",
      "source": [
        "## Task2"
      ],
      "metadata": {
        "id": "PZvomgcPMDvq"
      }
    },
    {
      "cell_type": "code",
      "source": [
        "def get_edit_network(wide_ts_in, num_classes):\n",
        "    inputs = Input(shape=(wide_ts_in, wide_ts_in, 3))\n",
        "\n",
        "    x = Conv2D(32, kernel_size=7, strides=2, padding='same', use_bias=False)(inputs)\n",
        "    x = BatchNormalization()(x)\n",
        "    x = ReLU(max_value=6)(x)\n",
        "\n",
        "    # x = mobilnet_v1_block(x, 64, strides=1)\n",
        "    x = mobilnet_v1_block(x, 128, strides=2)\n",
        "    x = mobilnet_v1_block(x, 128, strides=1)\n",
        "    x = mobilnet_v1_block(x, 256, strides=2)\n",
        "    x = mobilnet_v1_block(x, 256, strides=1)\n",
        "    x = mobilnet_v1_block(x, 512, strides=2)\n",
        "\n",
        "    for _ in range(5):  # 5 blocks with 512 filters\n",
        "        x = mobilnet_v1_block(x, 512, strides=1)\n",
        "\n",
        "    x = mobilnet_v1_block(x, 1024, strides=2)\n",
        "    x = mobilnet_v1_block(x, 1024, strides=1)\n",
        "\n",
        "    x = AvgPool2D(pool_size=(7, 7), strides=1, padding=\"same\")(x) # Using AvgPool2D\n",
        "    x = Flatten()(x)  # Flatten the output of AvgPool2D\n",
        "    outputs = Dense(num_classes, activation='softmax')(x)\n",
        "\n",
        "    model = Model(inputs=inputs, outputs=outputs)\n",
        "    return model"
      ],
      "metadata": {
        "id": "PkZ7tsp0MFp8"
      },
      "execution_count": 19,
      "outputs": []
    },
    {
      "cell_type": "code",
      "source": [
        "import numpy as np\n",
        "from sklearn.utils.class_weight import compute_class_weight\n",
        "\n",
        "# Calculate class weights\n",
        "y_train_true_classes = np.argmax(y_train, axis=1)  # Get true class labels\n",
        "class_weights = compute_class_weight(class_weight='balanced',\n",
        "                                     classes=np.unique(y_train_true_classes),\n",
        "                                     y=y_train_true_classes)\n",
        "class_weights_dict = {i: weight for i, weight in enumerate(class_weights)}\n",
        "\n",
        "# Define and compile the model with weighted-class cross-entropy loss\n",
        "model = get_edit_network(224, 101)\n",
        "model = compile_network(model, \"adam\", \"ce\")  # Using 'ce' for cross-entropy, weights will be applied in fit\n",
        "\n",
        "# Train the model with class weights\n",
        "model.fit(X_train, y_train, epochs=10, validation_data=(X_val, y_val), class_weight=class_weights_dict)\n",
        "\n",
        "# Evaluate the model\n",
        "eval_score(model)"
      ],
      "metadata": {
        "colab": {
          "base_uri": "https://localhost:8080/"
        },
        "id": "YbUyGFwGOQpT",
        "outputId": "8ccdc2dd-6000-4151-8674-d88f714f4801"
      },
      "execution_count": 20,
      "outputs": [
        {
          "output_type": "stream",
          "name": "stdout",
          "text": [
            "Epoch 1/10\n",
            "\u001b[1m163/163\u001b[0m \u001b[32m━━━━━━━━━━━━━━━━━━━━\u001b[0m\u001b[37m\u001b[0m \u001b[1m51s\u001b[0m 166ms/step - accuracy: 0.0137 - loss: 6.0096 - val_accuracy: 0.0916 - val_loss: 5.1345\n",
            "Epoch 2/10\n",
            "\u001b[1m163/163\u001b[0m \u001b[32m━━━━━━━━━━━━━━━━━━━━\u001b[0m\u001b[37m\u001b[0m \u001b[1m15s\u001b[0m 77ms/step - accuracy: 0.0568 - loss: 4.9324 - val_accuracy: 0.0472 - val_loss: 5.8584\n",
            "Epoch 3/10\n",
            "\u001b[1m163/163\u001b[0m \u001b[32m━━━━━━━━━━━━━━━━━━━━\u001b[0m\u001b[37m\u001b[0m \u001b[1m21s\u001b[0m 78ms/step - accuracy: 0.1193 - loss: 4.5080 - val_accuracy: 0.0472 - val_loss: 5.7407\n",
            "Epoch 4/10\n",
            "\u001b[1m163/163\u001b[0m \u001b[32m━━━━━━━━━━━━━━━━━━━━\u001b[0m\u001b[37m\u001b[0m \u001b[1m21s\u001b[0m 79ms/step - accuracy: 0.1816 - loss: 4.1742 - val_accuracy: 0.0058 - val_loss: 8.3105\n",
            "Epoch 5/10\n",
            "\u001b[1m163/163\u001b[0m \u001b[32m━━━━━━━━━━━━━━━━━━━━\u001b[0m\u001b[37m\u001b[0m \u001b[1m20s\u001b[0m 79ms/step - accuracy: 0.2362 - loss: 3.8768 - val_accuracy: 0.1158 - val_loss: 4.5394\n",
            "Epoch 6/10\n",
            "\u001b[1m163/163\u001b[0m \u001b[32m━━━━━━━━━━━━━━━━━━━━\u001b[0m\u001b[37m\u001b[0m \u001b[1m20s\u001b[0m 79ms/step - accuracy: 0.3111 - loss: 3.5583 - val_accuracy: 0.2569 - val_loss: 3.4658\n",
            "Epoch 7/10\n",
            "\u001b[1m163/163\u001b[0m \u001b[32m━━━━━━━━━━━━━━━━━━━━\u001b[0m\u001b[37m\u001b[0m \u001b[1m21s\u001b[0m 79ms/step - accuracy: 0.3391 - loss: 3.1947 - val_accuracy: 0.3329 - val_loss: 3.0655\n",
            "Epoch 8/10\n",
            "\u001b[1m163/163\u001b[0m \u001b[32m━━━━━━━━━━━━━━━━━━━━\u001b[0m\u001b[37m\u001b[0m \u001b[1m20s\u001b[0m 79ms/step - accuracy: 0.3912 - loss: 2.8888 - val_accuracy: 0.3007 - val_loss: 3.3176\n",
            "Epoch 9/10\n",
            "\u001b[1m163/163\u001b[0m \u001b[32m━━━━━━━━━━━━━━━━━━━━\u001b[0m\u001b[37m\u001b[0m \u001b[1m21s\u001b[0m 81ms/step - accuracy: 0.4334 - loss: 2.5797 - val_accuracy: 0.3174 - val_loss: 3.2409\n",
            "Epoch 10/10\n",
            "\u001b[1m163/163\u001b[0m \u001b[32m━━━━━━━━━━━━━━━━━━━━\u001b[0m\u001b[37m\u001b[0m \u001b[1m20s\u001b[0m 81ms/step - accuracy: 0.4586 - loss: 2.4493 - val_accuracy: 0.3393 - val_loss: 3.3227\n",
            "\u001b[1m163/163\u001b[0m \u001b[32m━━━━━━━━━━━━━━━━━━━━\u001b[0m\u001b[37m\u001b[0m \u001b[1m6s\u001b[0m 27ms/step\n",
            "\u001b[1m55/55\u001b[0m \u001b[32m━━━━━━━━━━━━━━━━━━━━\u001b[0m\u001b[37m\u001b[0m \u001b[1m2s\u001b[0m 34ms/step\n",
            "\u001b[1m55/55\u001b[0m \u001b[32m━━━━━━━━━━━━━━━━━━━━\u001b[0m\u001b[37m\u001b[0m \u001b[1m1s\u001b[0m 19ms/step\n",
            "Training Accuracy: 0.4555\n",
            "Validation Accuracy: 0.3393\n",
            "Test Accuracy: 0.3537\n"
          ]
        }
      ]
    }
  ]
}