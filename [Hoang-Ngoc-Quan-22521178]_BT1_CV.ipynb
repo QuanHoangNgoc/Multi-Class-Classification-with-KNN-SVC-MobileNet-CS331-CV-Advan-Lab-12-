{
  "nbformat": 4,
  "nbformat_minor": 0,
  "metadata": {
    "colab": {
      "provenance": [],
      "toc_visible": true,
      "gpuType": "T4"
    },
    "kernelspec": {
      "name": "python3",
      "display_name": "Python 3"
    },
    "language_info": {
      "name": "python"
    },
    "accelerator": "GPU"
  },
  "cells": [
    {
      "cell_type": "markdown",
      "source": [
        "# Author:\n",
        "- Name: Quan Hoang Ngoc\n",
        "- ID: 22521178\n",
        "- Time: 28/10/2024\n",
        "- Lab1"
      ],
      "metadata": {
        "id": "spY587cTc_Xx"
      }
    },
    {
      "cell_type": "code",
      "execution_count": null,
      "metadata": {
        "colab": {
          "base_uri": "https://localhost:8080/"
        },
        "id": "pnU_fwelcJDz",
        "outputId": "c71c81f7-7a8b-42c9-82dc-739934d1a0c4"
      },
      "outputs": [
        {
          "output_type": "stream",
          "name": "stdout",
          "text": [
            "2.5.0+cu121\n",
            "False\n",
            "0\n"
          ]
        }
      ],
      "source": [
        "import os\n",
        "import sys\n",
        "import torch\n",
        "\n",
        "print(torch.__version__)\n",
        "print(torch.cuda.is_available())\n",
        "print(torch.cuda.device_count())"
      ]
    },
    {
      "cell_type": "markdown",
      "source": [
        "## Content"
      ],
      "metadata": {
        "id": "u0PrQtpgdtLf"
      }
    },
    {
      "cell_type": "markdown",
      "source": [
        "## Clone corpus"
      ],
      "metadata": {
        "id": "bxrs9FKtdviM"
      }
    },
    {
      "cell_type": "code",
      "source": [
        "import torchvision as tv\n",
        "from torchvision import datasets, transforms\n",
        "from torch.utils.data import DataLoader"
      ],
      "metadata": {
        "id": "4LMrfAWKdu0U"
      },
      "execution_count": null,
      "outputs": []
    },
    {
      "cell_type": "code",
      "source": [
        "torch_ds = datasets.Caltech101(root='./data', download=True)\n",
        "torch_ds, torch_ds[0], torch_ds[10]"
      ],
      "metadata": {
        "colab": {
          "base_uri": "https://localhost:8080/"
        },
        "id": "-cpK8FCteMce",
        "outputId": "9e6ffafa-66ab-4164-fbf2-6bda08e4b4d0"
      },
      "execution_count": null,
      "outputs": [
        {
          "output_type": "stream",
          "name": "stdout",
          "text": [
            "Files already downloaded and verified\n"
          ]
        },
        {
          "output_type": "execute_result",
          "data": {
            "text/plain": [
              "(Dataset Caltech101\n",
              "     Number of datapoints: 8677\n",
              "     Root location: ./data/caltech101\n",
              "     Target type: ['category'],\n",
              " (<PIL.JpegImagePlugin.JpegImageFile image mode=RGB size=510x337>, 0),\n",
              " (<PIL.JpegImagePlugin.JpegImageFile image mode=RGB size=479x316>, 0))"
            ]
          },
          "metadata": {},
          "execution_count": 46
        }
      ]
    },
    {
      "cell_type": "markdown",
      "source": [
        "## Valid dataset"
      ],
      "metadata": {
        "id": "P4yJ4lL5gALY"
      }
    },
    {
      "cell_type": "code",
      "source": [
        "from imutils import paths\n",
        "import cv2\n",
        "import numpy as np\n",
        "from tqdm import tqdm"
      ],
      "metadata": {
        "id": "haMrdDAogW1g"
      },
      "execution_count": null,
      "outputs": []
    },
    {
      "cell_type": "code",
      "source": [
        "image_paths = list(paths.list_images('./data/caltech101'))\n",
        "data = []\n",
        "labels = []\n",
        "\n",
        "for img_path in tqdm(image_paths):\n",
        "    label = img_path.split(os.path.sep)[-2]\n",
        "    if label == \"BACKGROUND_Google\":\n",
        "        continue\n",
        "    img = cv2.imread(img_path)\n",
        "    img = cv2.cvtColor(img, cv2.COLOR_BGR2GRAY) # Color to gray\n",
        "    hist = cv2.calcHist([img], [0], None, [256], [0, 256])\n",
        "    size = img.shape[0]*img.shape[1]\n",
        "    hist = hist/size\n",
        "    hist = hist.flatten()\n",
        "    data.append(hist)\n",
        "    labels.append(label)\n",
        "data = np.array(data)\n",
        "labels = np.array(labels)\n",
        "data.shape, labels.shape"
      ],
      "metadata": {
        "colab": {
          "base_uri": "https://localhost:8080/"
        },
        "id": "7klh07RsgCMQ",
        "outputId": "e0e70b12-3b0b-439a-9b78-ece5f3677903"
      },
      "execution_count": null,
      "outputs": [
        {
          "output_type": "stream",
          "name": "stderr",
          "text": [
            "100%|██████████| 9144/9144 [00:18<00:00, 499.32it/s]\n"
          ]
        },
        {
          "output_type": "execute_result",
          "data": {
            "text/plain": [
              "((8677, 256), (8677,))"
            ]
          },
          "metadata": {},
          "execution_count": 48
        }
      ]
    },
    {
      "cell_type": "code",
      "source": [
        "classes = sorted(np.unique(labels))\n",
        "label_mapping = {label: idx for idx, label in enumerate(classes)}\n",
        "encoded = np.array([label_mapping[label] for label in labels])\n",
        "encoded"
      ],
      "metadata": {
        "colab": {
          "base_uri": "https://localhost:8080/"
        },
        "id": "1N4hGnu2hnN8",
        "outputId": "f1a081ac-e9ec-4614-8c3d-f551270df7b8"
      },
      "execution_count": null,
      "outputs": [
        {
          "output_type": "execute_result",
          "data": {
            "text/plain": [
              "array([ 5,  5,  5, ..., 65, 65, 65])"
            ]
          },
          "metadata": {},
          "execution_count": 49
        }
      ]
    },
    {
      "cell_type": "code",
      "source": [
        "from sklearn.model_selection import train_test_split\n",
        "\n",
        "# Split into train and test sets\n",
        "X_train, X_test, y_train, y_test = train_test_split(data, encoded, test_size=0.2, random_state=42)\n",
        "\n",
        "# Further split train into train and validation sets\n",
        "X_train, X_val, y_train, y_val = train_test_split(X_train, y_train, test_size=0.25, random_state=42)\n",
        "\n",
        "# Print the shapes of the resulting sets\n",
        "print(\"X_train shape:\", X_train.shape)\n",
        "print(\"y_train shape:\", y_train.shape)\n",
        "print(\"X_val shape:\", X_val.shape)\n",
        "print(\"y_val shape:\", y_val.shape)\n",
        "print(\"X_test shape:\", X_test.shape)\n",
        "print(\"y_test shape:\", y_test.shape)"
      ],
      "metadata": {
        "colab": {
          "base_uri": "https://localhost:8080/"
        },
        "id": "bQPuqi2slUrh",
        "outputId": "2a023c17-a92b-4664-ee49-b08c5345b5f0"
      },
      "execution_count": null,
      "outputs": [
        {
          "output_type": "stream",
          "name": "stdout",
          "text": [
            "X_train shape: (5205, 256)\n",
            "y_train shape: (5205,)\n",
            "X_val shape: (1736, 256)\n",
            "y_val shape: (1736,)\n",
            "X_test shape: (1736, 256)\n",
            "y_test shape: (1736,)\n"
          ]
        }
      ]
    },
    {
      "cell_type": "markdown",
      "source": [
        "## Task1"
      ],
      "metadata": {
        "id": "XDzqr2ExmWHD"
      }
    },
    {
      "cell_type": "code",
      "source": [
        "from sklearn.neighbors import KNeighborsClassifier\n",
        "from sklearn.metrics import accuracy_score\n",
        "\n",
        "k_values = [1, 2, 3, 4, 5]\n",
        "results = []\n",
        "\n",
        "for k in k_values:\n",
        "    # Create and train the KNN classifier\n",
        "    knn = KNeighborsClassifier(n_neighbors=k)\n",
        "    knn.fit(X_train, y_train)\n",
        "\n",
        "    # Predict on validation and test sets\n",
        "    y_pred_val = knn.predict(X_val)\n",
        "    y_pred_test = knn.predict(X_test)\n",
        "\n",
        "    # Calculate accuracy scores\n",
        "    acc_val = accuracy_score(y_val, y_pred_val)\n",
        "    acc_test = accuracy_score(y_test, y_pred_test)\n",
        "\n",
        "    results.append([k, acc_val, acc_test])\n",
        "\n",
        "# Print the results in a table format\n",
        "print(\"k\\tAcc val\\tAcc test\")\n",
        "for row in results:\n",
        "    print(\"{}\\t{:.4f}\\t{:.4f}\".format(row[0], row[1], row[2]))"
      ],
      "metadata": {
        "colab": {
          "base_uri": "https://localhost:8080/"
        },
        "id": "vqQC-pCGmXhx",
        "outputId": "d08d7653-225c-4f73-dbc4-2227d8bbf77b"
      },
      "execution_count": null,
      "outputs": [
        {
          "output_type": "stream",
          "name": "stdout",
          "text": [
            "k\tAcc val\tAcc test\n",
            "1\t0.2195\t0.2241\n",
            "2\t0.2298\t0.2339\n",
            "3\t0.2339\t0.2460\n",
            "4\t0.2379\t0.2385\n",
            "5\t0.2408\t0.2437\n"
          ]
        }
      ]
    },
    {
      "cell_type": "markdown",
      "source": [
        "## Task2"
      ],
      "metadata": {
        "id": "sbl9bUnJmtHg"
      }
    },
    {
      "cell_type": "code",
      "source": [
        "from sklearn.svm import SVC\n",
        "from sklearn.metrics import accuracy_score, precision_score\n",
        "import pandas as pd\n",
        "from tabulate import tabulate\n",
        "\n",
        "# Create and train the SVC classifier\n",
        "svc = SVC(C=1)\n",
        "svc.fit(X_train, y_train)\n",
        "\n",
        "# Predict on the test set\n",
        "y_pred_test = svc.predict(X_test)\n",
        "\n",
        "# Calculate accuracy\n",
        "accuracy = accuracy_score(y_test, y_pred_test)\n",
        "print(\"Accuracy on test set:\", f\"{accuracy:.4f}\")\n",
        "\n",
        "# Calculate precision for each class\n",
        "precision_per_class = precision_score(y_test, y_pred_test, average=None)\n",
        "\n",
        "\n",
        "# Create a list of lists for the table data\n",
        "table_data = [[label, f\"{precision:.4f}\"] for label, precision in zip(classes, precision_per_class)]\n",
        "# Print the table using tabulate\n",
        "print(tabulate(table_data, headers=[\"Class\", \"Precision\"], tablefmt=\"grid\"))\n",
        "\n",
        "# for label, precision in zip(classes, precision_per_class):\n",
        "#     print(f\"{label}: {precision:.4f}\")"
      ],
      "metadata": {
        "colab": {
          "base_uri": "https://localhost:8080/"
        },
        "id": "tX3AwTZpmuoG",
        "outputId": "2a68622b-6e33-4762-db69-c7ab6cbd712b"
      },
      "execution_count": null,
      "outputs": [
        {
          "output_type": "stream",
          "name": "stdout",
          "text": [
            "Accuracy on test set: 0.2512\n",
            "+-----------------+-------------+\n",
            "| Class           |   Precision |\n",
            "+=================+=============+\n",
            "| Faces           |      0.0753 |\n",
            "+-----------------+-------------+\n",
            "| Faces_easy      |      0.1479 |\n",
            "+-----------------+-------------+\n",
            "| Leopards        |      0.3043 |\n",
            "+-----------------+-------------+\n",
            "| Motorbikes      |      0.4186 |\n",
            "+-----------------+-------------+\n",
            "| accordion       |      0      |\n",
            "+-----------------+-------------+\n",
            "| airplanes       |      0.5276 |\n",
            "+-----------------+-------------+\n",
            "| anchor          |      0      |\n",
            "+-----------------+-------------+\n",
            "| ant             |      0      |\n",
            "+-----------------+-------------+\n",
            "| barrel          |      0      |\n",
            "+-----------------+-------------+\n",
            "| bass            |      0      |\n",
            "+-----------------+-------------+\n",
            "| beaver          |      0      |\n",
            "+-----------------+-------------+\n",
            "| binocular       |      0.3333 |\n",
            "+-----------------+-------------+\n",
            "| bonsai          |      0      |\n",
            "+-----------------+-------------+\n",
            "| brain           |      0.1034 |\n",
            "+-----------------+-------------+\n",
            "| brontosaurus    |      0      |\n",
            "+-----------------+-------------+\n",
            "| buddha          |      0      |\n",
            "+-----------------+-------------+\n",
            "| butterfly       |      0      |\n",
            "+-----------------+-------------+\n",
            "| camera          |      0      |\n",
            "+-----------------+-------------+\n",
            "| cannon          |      0      |\n",
            "+-----------------+-------------+\n",
            "| car_side        |      1      |\n",
            "+-----------------+-------------+\n",
            "| ceiling_fan     |      0      |\n",
            "+-----------------+-------------+\n",
            "| cellphone       |      0.25   |\n",
            "+-----------------+-------------+\n",
            "| chair           |      0      |\n",
            "+-----------------+-------------+\n",
            "| chandelier      |      0      |\n",
            "+-----------------+-------------+\n",
            "| cougar_body     |      0      |\n",
            "+-----------------+-------------+\n",
            "| cougar_face     |      0      |\n",
            "+-----------------+-------------+\n",
            "| crab            |      0      |\n",
            "+-----------------+-------------+\n",
            "| crayfish        |      0      |\n",
            "+-----------------+-------------+\n",
            "| crocodile       |      0      |\n",
            "+-----------------+-------------+\n",
            "| crocodile_head  |      0      |\n",
            "+-----------------+-------------+\n",
            "| cup             |      0      |\n",
            "+-----------------+-------------+\n",
            "| dalmatian       |      0      |\n",
            "+-----------------+-------------+\n",
            "| dollar_bill     |      0      |\n",
            "+-----------------+-------------+\n",
            "| dolphin         |      0      |\n",
            "+-----------------+-------------+\n",
            "| dragonfly       |      0      |\n",
            "+-----------------+-------------+\n",
            "| electric_guitar |      0      |\n",
            "+-----------------+-------------+\n",
            "| elephant        |      0      |\n",
            "+-----------------+-------------+\n",
            "| emu             |      0      |\n",
            "+-----------------+-------------+\n",
            "| euphonium       |      0      |\n",
            "+-----------------+-------------+\n",
            "| ewer            |      0      |\n",
            "+-----------------+-------------+\n",
            "| ferry           |      0      |\n",
            "+-----------------+-------------+\n",
            "| flamingo        |      0      |\n",
            "+-----------------+-------------+\n",
            "| flamingo_head   |      0      |\n",
            "+-----------------+-------------+\n",
            "| garfield        |      0.5    |\n",
            "+-----------------+-------------+\n",
            "| gerenuk         |      0      |\n",
            "+-----------------+-------------+\n",
            "| gramophone      |      0      |\n",
            "+-----------------+-------------+\n",
            "| grand_piano     |      0      |\n",
            "+-----------------+-------------+\n",
            "| hawksbill       |      0.1429 |\n",
            "+-----------------+-------------+\n",
            "| headphone       |      0      |\n",
            "+-----------------+-------------+\n",
            "| hedgehog        |      0      |\n",
            "+-----------------+-------------+\n",
            "| helicopter      |      0      |\n",
            "+-----------------+-------------+\n",
            "| ibis            |      0      |\n",
            "+-----------------+-------------+\n",
            "| inline_skate    |      0      |\n",
            "+-----------------+-------------+\n",
            "| joshua_tree     |      0      |\n",
            "+-----------------+-------------+\n",
            "| kangaroo        |      0      |\n",
            "+-----------------+-------------+\n",
            "| ketch           |      0.1538 |\n",
            "+-----------------+-------------+\n",
            "| lamp            |      0      |\n",
            "+-----------------+-------------+\n",
            "| laptop          |      0      |\n",
            "+-----------------+-------------+\n",
            "| llama           |      0      |\n",
            "+-----------------+-------------+\n",
            "| lobster         |      0      |\n",
            "+-----------------+-------------+\n",
            "| lotus           |      0      |\n",
            "+-----------------+-------------+\n",
            "| mandolin        |      0      |\n",
            "+-----------------+-------------+\n",
            "| mayfly          |      0      |\n",
            "+-----------------+-------------+\n",
            "| menorah         |      0      |\n",
            "+-----------------+-------------+\n",
            "| metronome       |      0      |\n",
            "+-----------------+-------------+\n",
            "| minaret         |      0.5238 |\n",
            "+-----------------+-------------+\n",
            "| nautilus        |      0      |\n",
            "+-----------------+-------------+\n",
            "| octopus         |      0      |\n",
            "+-----------------+-------------+\n",
            "| okapi           |      0      |\n",
            "+-----------------+-------------+\n",
            "| pagoda          |      1      |\n",
            "+-----------------+-------------+\n",
            "| panda           |      0      |\n",
            "+-----------------+-------------+\n",
            "| pigeon          |      0      |\n",
            "+-----------------+-------------+\n",
            "| pizza           |      0      |\n",
            "+-----------------+-------------+\n",
            "| platypus        |      0      |\n",
            "+-----------------+-------------+\n",
            "| pyramid         |      0      |\n",
            "+-----------------+-------------+\n",
            "| revolver        |      0      |\n",
            "+-----------------+-------------+\n",
            "| rhino           |      0      |\n",
            "+-----------------+-------------+\n",
            "| rooster         |      0      |\n",
            "+-----------------+-------------+\n",
            "| saxophone       |      0      |\n",
            "+-----------------+-------------+\n",
            "| schooner        |      0      |\n",
            "+-----------------+-------------+\n",
            "| scissors        |      0      |\n",
            "+-----------------+-------------+\n",
            "| scorpion        |      0      |\n",
            "+-----------------+-------------+\n",
            "| sea_horse       |      0      |\n",
            "+-----------------+-------------+\n",
            "| snoopy          |      0.5    |\n",
            "+-----------------+-------------+\n",
            "| soccer_ball     |      0.3333 |\n",
            "+-----------------+-------------+\n",
            "| stapler         |      0      |\n",
            "+-----------------+-------------+\n",
            "| starfish        |      0      |\n",
            "+-----------------+-------------+\n",
            "| stegosaurus     |      0      |\n",
            "+-----------------+-------------+\n",
            "| stop_sign       |      0.7143 |\n",
            "+-----------------+-------------+\n",
            "| strawberry      |      0      |\n",
            "+-----------------+-------------+\n",
            "| sunflower       |      0      |\n",
            "+-----------------+-------------+\n",
            "| tick            |      0      |\n",
            "+-----------------+-------------+\n",
            "| trilobite       |      0.2653 |\n",
            "+-----------------+-------------+\n",
            "| umbrella        |      0.0714 |\n",
            "+-----------------+-------------+\n",
            "| watch           |      0.0816 |\n",
            "+-----------------+-------------+\n",
            "| water_lilly     |      0      |\n",
            "+-----------------+-------------+\n",
            "| wheelchair      |      0      |\n",
            "+-----------------+-------------+\n",
            "| wild_cat        |      0      |\n",
            "+-----------------+-------------+\n",
            "| windsor_chair   |      0      |\n",
            "+-----------------+-------------+\n",
            "| wrench          |      0.1429 |\n",
            "+-----------------+-------------+\n",
            "| yin_yang        |      0.8571 |\n",
            "+-----------------+-------------+\n"
          ]
        },
        {
          "output_type": "stream",
          "name": "stderr",
          "text": [
            "/usr/local/lib/python3.10/dist-packages/sklearn/metrics/_classification.py:1531: UndefinedMetricWarning: Precision is ill-defined and being set to 0.0 in labels with no predicted samples. Use `zero_division` parameter to control this behavior.\n",
            "  _warn_prf(average, modifier, f\"{metric.capitalize()} is\", len(result))\n"
          ]
        }
      ]
    },
    {
      "cell_type": "markdown",
      "source": [
        "## Task3"
      ],
      "metadata": {
        "id": "b9qALltDubCH"
      }
    },
    {
      "cell_type": "code",
      "source": [
        "from sklearn.svm import SVC\n",
        "from sklearn.metrics import accuracy_score, confusion_matrix\n",
        "\n",
        "def svc_task(strategy):\n",
        "    # Create and train the SVC classifier with one-vs-one strategy\n",
        "    svc = SVC(C=1, decision_function_shape=strategy)  # ovo for one-vs-one\n",
        "    svc.fit(X_train, y_train)\n",
        "\n",
        "    # Predict on the test set\n",
        "    y_pred_test = svc.predict(X_test)\n",
        "\n",
        "    # Calculate accuracy\n",
        "    accuracy = accuracy_score(y_test, y_pred_test)\n",
        "    print(\"Accuracy on test set:\", f\"{accuracy:.4f}\")\n",
        "\n",
        "    # Calculate the number of support vectors\n",
        "    n_support_vectors = sum(svc.n_support_)\n",
        "    print(\"Number of support vectors:\", n_support_vectors)\n",
        "    n_support_vectors = svc.support_vectors_.shape[0]\n",
        "    print(\"Number of support vectors:\", n_support_vectors)\n",
        "\n",
        "    # Calculate and display the confusion matrix\n",
        "    cm = confusion_matrix(y_test, y_pred_test)\n",
        "    print(\"Confusion matrix:\\n\", cm)\n",
        "\n",
        "    # Optionally, display the confusion matrix as a heatmap (requires seaborn and matplotlib)\n",
        "    import seaborn as sns\n",
        "    import matplotlib.pyplot as plt\n",
        "    sns.heatmap(cm, annot=False, fmt=\"d\")\n",
        "    plt.xlabel(\"Predicted\")\n",
        "    plt.ylabel(\"True\")\n",
        "    plt.title(\"Confusion Matrix\")\n",
        "    plt.show()"
      ],
      "metadata": {
        "id": "rTpnlz8cuclm"
      },
      "execution_count": null,
      "outputs": []
    },
    {
      "cell_type": "code",
      "source": [
        "svc_task('ovo')"
      ],
      "metadata": {
        "colab": {
          "base_uri": "https://localhost:8080/",
          "height": 675
        },
        "id": "Ml9GWlwxvU6u",
        "outputId": "e539d39d-58e2-4d5c-bead-ce7c622c5365"
      },
      "execution_count": null,
      "outputs": [
        {
          "output_type": "stream",
          "name": "stdout",
          "text": [
            "Accuracy on test set: 0.2512\n",
            "Number of support vectors: 4811\n",
            "Number of support vectors: 4811\n",
            "Confusion matrix:\n",
            " [[28 42  0 ...  0  0  0]\n",
            " [20 59  0 ...  0  0  0]\n",
            " [ 8  4 28 ...  0  0  0]\n",
            " ...\n",
            " [ 3  2  0 ...  0  0  0]\n",
            " [ 0  2  0 ...  0  1  0]\n",
            " [ 1  1  0 ...  0  0  6]]\n"
          ]
        },
        {
          "output_type": "display_data",
          "data": {
            "text/plain": [
              "<Figure size 640x480 with 2 Axes>"
            ],
            "image/png": "[encoded data removed]"
          },
          "metadata": {}
        }
      ]
    },
    {
      "cell_type": "markdown",
      "source": [
        "## Task4"
      ],
      "metadata": {
        "id": "s9Q2S3RRxh3_"
      }
    },
    {
      "cell_type": "code",
      "source": [
        "svc_task('ovr')"
      ],
      "metadata": {
        "colab": {
          "base_uri": "https://localhost:8080/",
          "height": 675
        },
        "id": "LJfHRyRQxl_c",
        "outputId": "c22846d3-1203-4e0a-e2f1-9b2b4b94535f"
      },
      "execution_count": null,
      "outputs": [
        {
          "output_type": "stream",
          "name": "stdout",
          "text": [
            "Accuracy on test set: 0.2512\n",
            "Number of support vectors: 4811\n",
            "Number of support vectors: 4811\n",
            "Confusion matrix:\n",
            " [[28 42  0 ...  0  0  0]\n",
            " [20 59  0 ...  0  0  0]\n",
            " [ 8  4 28 ...  0  0  0]\n",
            " ...\n",
            " [ 3  2  0 ...  0  0  0]\n",
            " [ 0  2  0 ...  0  1  0]\n",
            " [ 1  1  0 ...  0  0  6]]\n"
          ]
        },
        {
          "output_type": "display_data",
          "data": {
            "text/plain": [
              "<Figure size 640x480 with 2 Axes>"
            ],
            "image/png": "[encoded data removed]"
          },
          "metadata": {}
        }
      ]
    },
    {
      "cell_type": "markdown",
      "source": [
        "## Task5"
      ],
      "metadata": {
        "id": "68kgNGpTyiNd"
      }
    },
    {
      "cell_type": "markdown",
      "source": [
        "### Best score use cross-valid test on train set"
      ],
      "metadata": {
        "id": "UmvZCs3xaWSk"
      }
    },
    {
      "cell_type": "code",
      "source": [
        "from sklearn.svm import SVC\n",
        "from sklearn.model_selection import GridSearchCV\n",
        "\n",
        "# Define the parameter grid for C\n",
        "param_grid = {'C':  [0.1, 0.5, 1, 5, 10, 50, 100]}\n",
        "\n",
        "# Create the SVC classifier\n",
        "svc = SVC()\n",
        "\n",
        "# Create the GridSearchCV object\n",
        "grid_search = GridSearchCV(svc, param_grid, cv=5, scoring='accuracy')  # cv=5 for 5-fold cross-validation\n",
        "\n",
        "# Fit the GridSearchCV to the training data\n",
        "grid_search.fit(X_train, y_train)\n",
        "\n",
        "# Get the best value of C\n",
        "best_C = grid_search.best_params_['C']\n",
        "print(\"Best value of C:\", best_C)\n",
        "\n",
        "# Get the best accuracy score\n",
        "best_accuracy = grid_search.best_score_\n",
        "print(\"Best accuracy score:\", best_accuracy)"
      ],
      "metadata": {
        "colab": {
          "base_uri": "https://localhost:8080/"
        },
        "id": "8hNov25RyjxC",
        "outputId": "964062ba-2e69-4415-834f-7ee9b0dc11ab"
      },
      "execution_count": null,
      "outputs": [
        {
          "output_type": "stream",
          "name": "stdout",
          "text": [
            "Best value of C: 50\n",
            "Best accuracy score: 0.2918347742555235\n"
          ]
        }
      ]
    },
    {
      "cell_type": "markdown",
      "source": [
        "### Best score use test set"
      ],
      "metadata": {
        "id": "oFn3EePAagAL"
      }
    },
    {
      "cell_type": "code",
      "source": [
        "from sklearn.svm import SVC\n",
        "from sklearn.metrics import accuracy_score\n",
        "\n",
        "# Define the list of C values\n",
        "C_values = [x for x in range(1, 100)]\n",
        "\n",
        "best_C = None\n",
        "best_accuracy = 0\n",
        "\n",
        "# Iterate through C values\n",
        "for C in C_values:\n",
        "    # Create and train the SVC classifier\n",
        "    svc = SVC(C=C)\n",
        "    svc.fit(X_train, y_train)\n",
        "\n",
        "    # Predict on the test set\n",
        "    y_pred_test = svc.predict(X_test)\n",
        "\n",
        "    # Calculate accuracy\n",
        "    accuracy = accuracy_score(y_test, y_pred_test)\n",
        "\n",
        "    # Update best C and accuracy if current C performs better\n",
        "    if accuracy > best_accuracy:\n",
        "        best_accuracy = accuracy\n",
        "        best_C = C\n",
        "\n",
        "# Print the best C and accuracy\n",
        "print(\"Best value of C:\", best_C)\n",
        "print(\"Best accuracy score:\", best_accuracy)"
      ],
      "metadata": {
        "colab": {
          "base_uri": "https://localhost:8080/"
        },
        "id": "3_nNRFPlz_6t",
        "outputId": "23c2d0f2-57f0-44e6-acd8-3606f4dfd1ae"
      },
      "execution_count": null,
      "outputs": [
        {
          "output_type": "stream",
          "name": "stdout",
          "text": [
            "Best value of C: 48\n",
            "Best accuracy score: 0.2828341013824885\n"
          ]
        }
      ]
    }
  ]
}